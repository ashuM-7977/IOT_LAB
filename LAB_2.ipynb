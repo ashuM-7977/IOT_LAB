{
 "cells": [
  {
   "cell_type": "code",
   "execution_count": 2,
   "id": "064a1ebb",
   "metadata": {},
   "outputs": [
    {
     "name": "stdout",
     "output_type": "stream",
     "text": [
      "b'hello IOT learners'\n",
      "original string: hello IOT learners\n",
      "encrypted string: b'gAAAAABjyPxNmv0-Ise2gxUHpasUwltR_lmJgt8HPieE1G7NoD7EjZ3iV0t3LVvKt7N9ThpWxHSdifAenqnTZieJ23xa0MwHaf_IlV96jNze8ucXXlL_tjM='\n",
      "decrypted string:  hello IOT learners\n",
      "\n",
      "original string:  hello IOT learners\n",
      "encrypted string:  b\"#\\xb2\\xb9QUG\\xcd\\xea\\xc0':\\x98\\x00\\x17E\\n)5_\\xe0\\x8d\\xb7\\xcb\\x9c\\x08\\x06\\xf3r\\x03qB\\x95_\\xc3$\\xb7v\\x88\\xeb\\xb4{\\xda\\xf8\\x12\\x95\\xdb\\x04!D\\xad\\x19\\xb9K\\xd5\\xd2L\\xc7\\xef\\t\\xc4\\x14\\xdf\\xda\\x9c\"\n",
      "decrypted string:  hello IOT learners\n"
     ]
    }
   ],
   "source": [
    "# Q.2,3) WAP for Encryption and decryption in python.\n",
    "\n",
    "# Symmetric-key Encryption\n",
    "from cryptography.fernet import Fernet\n",
    "\n",
    "message = \"hello IOT learners\"\n",
    "\n",
    "key = Fernet.generate_key()\n",
    "fernet = Fernet(key)\n",
    "print(message.encode())\n",
    "encMessage = fernet.encrypt(message.encode())\n",
    "\n",
    "print(\"original string:\", message)\n",
    "print(\"encrypted string:\", encMessage)\n",
    "\n",
    "decMessage = fernet.decrypt(encMessage).decode()\n",
    "\n",
    "print(\"decrypted string: \", decMessage)\n",
    "\n",
    "# Asymmetric-key Encryption\n",
    "import rsa\n",
    "\n",
    "publicKey, privateKey = rsa.newkeys(512)\n",
    " \n",
    "message = \"hello IOT learners\"\n",
    " \n",
    "encMessage = rsa.encrypt(message.encode(),\n",
    "                         publicKey)\n",
    " \n",
    "print(\"\\noriginal string: \", message)\n",
    "print(\"encrypted string: \", encMessage)\n",
    "\n",
    "decMessage = rsa.decrypt(encMessage, privateKey).decode()\n",
    " \n",
    "print(\"decrypted string: \", decMessage)"
   ]
  },
  {
   "cell_type": "code",
   "execution_count": null,
   "id": "91c44917",
   "metadata": {},
   "outputs": [],
   "source": []
  }
 ],
 "metadata": {
  "kernelspec": {
   "display_name": "Python 3 (ipykernel)",
   "language": "python",
   "name": "python3"
  },
  "language_info": {
   "codemirror_mode": {
    "name": "ipython",
    "version": 3
   },
   "file_extension": ".py",
   "mimetype": "text/x-python",
   "name": "python",
   "nbconvert_exporter": "python",
   "pygments_lexer": "ipython3",
   "version": "3.9.12"
  }
 },
 "nbformat": 4,
 "nbformat_minor": 5
}
